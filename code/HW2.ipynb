{
 "cells": [
  {
   "cell_type": "markdown",
   "source": [
    "# MLF HW2"
   ],
   "metadata": {
    "collapsed": false
   },
   "id": "fff80bf57b6e74c"
  },
  {
   "cell_type": "markdown",
   "source": [
    "## Import libs"
   ],
   "metadata": {
    "collapsed": false
   },
   "id": "6d6698d74163fec5"
  },
  {
   "cell_type": "code",
   "outputs": [],
   "source": [
    "import warnings\n",
    "\n",
    "import pandas as pd\n",
    "import numpy as np\n",
    "from matplotlib import pyplot as plt\n",
    "from sklearn.decomposition import PCA\n",
    "from sklearn.linear_model import LogisticRegression\n",
    "from sklearn.metrics import classification_report\n",
    "from sklearn.model_selection import train_test_split\n",
    "from sklearn.svm import SVC\n",
    "from sklearn.tree import DecisionTreeClassifier\n",
    "\n",
    "from Ref.ch03 import plot_decision_regions"
   ],
   "metadata": {
    "collapsed": true,
    "ExecuteTime": {
     "end_time": "2024-03-27T15:21:39.263517700Z",
     "start_time": "2024-03-27T15:21:38.337274600Z"
    }
   },
   "id": "initial_id",
   "execution_count": 1
  },
  {
   "cell_type": "markdown",
   "source": [
    "## Loading data & preprocessing"
   ],
   "metadata": {
    "collapsed": false
   },
   "id": "f608300f65f6744c"
  },
  {
   "cell_type": "code",
   "outputs": [],
   "source": [
    "data = pd.read_csv(\"Data/cs-training.csv\", index_col=0)\n",
    "\n",
    "y_feature = \"SeriousDlqin2yrs\"\n",
    "X_features = list(data.columns)\n",
    "X_features.remove(y_feature)\n",
    "\n",
    "data[X_features] = data[X_features].fillna(data[X_features].mean())\n",
    "data_train = data.dropna(subset=y_feature)\n",
    "\n",
    "X = data[X_features]\n",
    "y = data[y_feature]\n",
    "\n",
    "X_train, X_test, y_train, y_test = train_test_split(X, y, test_size=0.2, random_state=42, shuffle=True)\n",
    "\n",
    "from sklearn.preprocessing import StandardScaler\n",
    "sc = StandardScaler()\n",
    "X_train_sd = sc.fit_transform(X_train)\n",
    "X_test_sd = sc.transform(X_test)"
   ],
   "metadata": {
    "collapsed": false,
    "ExecuteTime": {
     "end_time": "2024-03-27T15:21:39.446898500Z",
     "start_time": "2024-03-27T15:21:39.266508100Z"
    }
   },
   "id": "5d1b031fbf40ffb9",
   "execution_count": 2
  },
  {
   "cell_type": "markdown",
   "source": [
    "## Extract  features using PCA method\n",
    "### Plot explained variance"
   ],
   "metadata": {
    "collapsed": false
   },
   "id": "db717d9dd558f802"
  },
  {
   "cell_type": "code",
   "outputs": [
    {
     "name": "stdout",
     "output_type": "stream",
     "text": [
      "\n",
      "Eigenvalues \n",
      "[2.99468873 1.52885561 1.22574242 0.5443703  0.73331573 0.93751269\n",
      " 1.00117799 1.01033026 0.01729004 0.00679957]\n"
     ]
    },
    {
     "data": {
      "text/plain": "<Figure size 640x480 with 1 Axes>",
      "image/png": "[encoded data removed]"
     },
     "metadata": {},
     "output_type": "display_data"
    }
   ],
   "source": [
    "cov_mat = np.cov(X_train_sd.transpose())\n",
    "eigen_vals, eigen_vecs = np.linalg.eig(cov_mat)\n",
    "\n",
    "print('\\nEigenvalues \\n%s' % eigen_vals)\n",
    "\n",
    "tot = sum(eigen_vals)\n",
    "var_exp = [(i / tot) for i in sorted(eigen_vals, reverse=True)]\n",
    "cum_var_exp = np.cumsum(var_exp)\n",
    "\n",
    "plt.bar(range(1, len(var_exp)+1), var_exp, alpha=0.5, align='center',\n",
    "        label='Individual explained variance')\n",
    "plt.step(range(1, len(var_exp)+1), cum_var_exp, where='mid',\n",
    "         label='Cumulative explained variance')\n",
    "plt.ylabel('Explained variance ratio')\n",
    "plt.xlabel('Principal component index')\n",
    "plt.legend(loc='best')\n",
    "plt.tight_layout()\n",
    "plt.show()"
   ],
   "metadata": {
    "collapsed": false,
    "ExecuteTime": {
     "end_time": "2024-03-27T15:21:39.614570600Z",
     "start_time": "2024-03-27T15:21:39.451397700Z"
    }
   },
   "id": "abd641aa6bd49e02",
   "execution_count": 3
  },
  {
   "cell_type": "markdown",
   "source": [
    "Since top 6 features explain about 86% of variance, 6 components will be kept in further process."
   ],
   "metadata": {
    "collapsed": false
   },
   "id": "648b0b4156dbdad2"
  },
  {
   "cell_type": "markdown",
   "source": [
    "## Implementing RF with pipeline & 5-fold CV"
   ],
   "metadata": {
    "collapsed": false
   },
   "id": "e598b89d04c8880"
  },
  {
   "cell_type": "code",
   "outputs": [
    {
     "name": "stdout",
     "output_type": "stream",
     "text": [
      "Fitting 5 folds for each of 40 candidates, totalling 200 fits\n",
      "0.9341833333333334\n",
      "{'randomforestclassifier__criterion': 'gini', 'randomforestclassifier__max_depth': 5, 'randomforestclassifier__n_estimators': 10}\n",
      "Test accuracy: 0.935\n"
     ]
    }
   ],
   "source": [
    "from sklearn.model_selection import GridSearchCV\n",
    "from sklearn.ensemble import RandomForestClassifier\n",
    "from sklearn.decomposition import PCA\n",
    "from sklearn.pipeline import make_pipeline\n",
    "\n",
    "pipe_RF = make_pipeline(StandardScaler(),\n",
    "                        PCA(n_components=6),\n",
    "                        RandomForestClassifier(random_state=1))\n",
    "\n",
    "param_grid = [{'randomforestclassifier__max_depth': [1, 2, 3, 4, 5], \n",
    "               'randomforestclassifier__criterion': ['gini', 'entropy'],\n",
    "               'randomforestclassifier__n_estimators': [10, 20, 50, 100]}]\n",
    "\n",
    "gs = GridSearchCV(estimator=pipe_RF, \n",
    "                  param_grid=param_grid, \n",
    "                  scoring='accuracy', \n",
    "                  refit=True,\n",
    "                  cv=5,\n",
    "                  n_jobs=-1, verbose=2)\n",
    "gs = gs.fit(X_train, y_train)\n",
    "print(gs.best_score_)\n",
    "print(gs.best_params_)\n",
    "\n",
    "clf = gs.best_estimator_\n",
    "\n",
    "print('Test accuracy: %.3f' % clf.score(X_test, y_test))"
   ],
   "metadata": {
    "collapsed": false,
    "ExecuteTime": {
     "end_time": "2024-03-27T15:25:24.382605900Z",
     "start_time": "2024-03-27T15:24:14.024136900Z"
    }
   },
   "id": "e333776d1f6a2067",
   "execution_count": 6
  }
 ],
 "metadata": {
  "kernelspec": {
   "display_name": "Python 3",
   "language": "python",
   "name": "python3"
  },
  "language_info": {
   "codemirror_mode": {
    "name": "ipython",
    "version": 2
   },
   "file_extension": ".py",
   "mimetype": "text/x-python",
   "name": "python",
   "nbconvert_exporter": "python",
   "pygments_lexer": "ipython2",
   "version": "2.7.6"
  }
 },
 "nbformat": 4,
 "nbformat_minor": 5
}
